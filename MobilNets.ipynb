{
 "cells": [
  {
   "cell_type": "code",
   "execution_count": null,
   "metadata": {
    "collapsed": true
   },
   "outputs": [],
   "source": [
    "import torch\n",
    "from torchvision import datasets, transforms\n",
    "import torch.nn as nn\n",
    "from importlib import reload\n",
    "import MobileNet_v3\n",
    "import functions\n",
    "MobileNet_v3 = reload(MobileNet_v3)\n",
    "\n",
    "functions = reload(functions)\n",
    "from functions import train, accuracy, MyDataLoader\n",
    "from MobileNet_v3 import get_model as gm3\n",
    "\n",
    "\n",
    "DEVICE = torch.device('cuda' if torch.cuda.is_available() else 'cpu')\n",
    "\n",
    "torch.cuda.empty_cache()"
   ]
  },
  {
   "cell_type": "code",
   "execution_count": null,
   "outputs": [],
   "source": [
    "mobilenet = gm3().to(DEVICE)"
   ],
   "metadata": {
    "collapsed": false,
    "pycharm": {
     "name": "#%%\n"
    }
   }
  },
  {
   "cell_type": "code",
   "execution_count": null,
   "outputs": [],
   "source": [
    "# optimizer settings\n",
    "learning_rate = 1e-4\n",
    "\n",
    "# train settings\n",
    "epochs_count = 20\n",
    "\n",
    "# dataset settings\n",
    "batch_size = 32\n",
    "\n",
    "optimizer = torch.optim.RMSprop(mobilenet.parameters(),\n",
    "                                lr=learning_rate,\n",
    "                                momentum=0.9)\n",
    "loss_func = nn.NLLLoss()\n",
    "\n",
    "train_transformer = transforms.Compose([\n",
    "    transforms.Resize(224),\n",
    "    transforms.ToTensor(),\n",
    "    transforms.Normalize([.25], [.3])\n",
    "])\n",
    "\n",
    "mnist_train = datasets.MNIST('data/',\n",
    "                             transform=train_transformer,\n",
    "                             download=True)\n",
    "mnist_test = datasets.MNIST('data/', train=False)\n",
    "\n",
    "train_loader = MyDataLoader(mnist_train, batch_size, shuffle=True)\n",
    "test_loader = MyDataLoader(mnist_test, batch_size, shuffle=False)"
   ],
   "metadata": {
    "collapsed": false,
    "pycharm": {
     "name": "#%%\n"
    }
   }
  },
  {
   "cell_type": "code",
   "execution_count": null,
   "outputs": [],
   "source": [
    "train_history, best_parameters = \\\n",
    "    train(mobilenet, train_loader, loss_func, optimizer, epochs_count, accuracy)"
   ],
   "metadata": {
    "collapsed": false,
    "pycharm": {
     "name": "#%%\n"
    }
   }
  },
  {
   "cell_type": "code",
   "execution_count": null,
   "outputs": [],
   "source": [
    "\n"
   ],
   "metadata": {
    "collapsed": false,
    "pycharm": {
     "name": "#%%\n"
    }
   }
  }
 ],
 "metadata": {
  "kernelspec": {
   "display_name": "Python 3",
   "language": "python",
   "name": "python3"
  },
  "language_info": {
   "codemirror_mode": {
    "name": "ipython",
    "version": 2
   },
   "file_extension": ".py",
   "mimetype": "text/x-python",
   "name": "python",
   "nbconvert_exporter": "python",
   "pygments_lexer": "ipython2",
   "version": "2.7.6"
  }
 },
 "nbformat": 4,
 "nbformat_minor": 0
}