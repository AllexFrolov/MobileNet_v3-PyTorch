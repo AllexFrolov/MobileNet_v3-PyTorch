{
 "cells": [
  {
   "cell_type": "code",
   "execution_count": null,
   "metadata": {
    "collapsed": true
   },
   "outputs": [],
   "source": [
    "import numpy as np\n",
    "import torch\n",
    "from torchvision import datasets, transforms\n",
    "import torch.nn as nn\n",
    "from importlib import reload\n",
    "import MobileNet_v3\n",
    "import functions\n",
    "MobileNet_v3 = reload(MobileNet_v3)\n",
    "\n",
    "functions = reload(functions)\n",
    "from functions import train, accuracy, MyDataLoader, train_test_split\n",
    "from MobileNet_v3 import get_model as gm3\n",
    "\n",
    "\n",
    "DEVICE = torch.device('cuda' if torch.cuda.is_available() else 'cpu')\n",
    "\n",
    "torch.cuda.empty_cache()"
   ]
  },
  {
   "cell_type": "code",
   "execution_count": null,
   "outputs": [],
   "source": [
    "mobilenet = gm3().to(DEVICE)"
   ],
   "metadata": {
    "collapsed": false,
    "pycharm": {
     "name": "#%%\n"
    }
   }
  },
  {
   "cell_type": "code",
   "execution_count": null,
   "outputs": [],
   "source": [
    "# dataset settings\n",
    "batch_size = 32\n",
    "\n",
    "train_transformer = transforms.Compose([\n",
    "    transforms.Resize(128),\n",
    "    transforms.ToTensor(),\n",
    "    transforms.Normalize([0.24, 0.25, 0.26], [.31, .32, .33])\n",
    "])\n",
    "\n",
    "cifar_train = datasets.CIFAR100('data/',\n",
    "                             transform=train_transformer,\n",
    "                             download=True)\n",
    "cifar_test = datasets.CIFAR100('data/', train=False)\n",
    "\n",
    "train_indices, val_indices = train_test_split(np.arange(len(cifar_train)), .75, cifar_train.targets)\n",
    "train_loader = MyDataLoader(cifar_train, batch_size, train_indices, shuffle=True)\n",
    "val_loader = MyDataLoader(cifar_train, batch_size, val_indices, shuffle=True)\n",
    "test_loader = MyDataLoader(cifar_test, batch_size, shuffle=False)"
   ],
   "metadata": {
    "collapsed": false,
    "pycharm": {
     "name": "#%%\n"
    }
   }
  },
  {
   "cell_type": "code",
   "execution_count": null,
   "outputs": [],
   "source": [
    "# optimizer settings\n",
    "learning_rate = 1e-1\n",
    "\n",
    "# train settings\n",
    "epochs_count = 3\n",
    "\n",
    "\n",
    "optimizer = torch.optim.RMSprop(mobilenet.parameters(),\n",
    "                                lr=learning_rate,\n",
    "                                momentum=0.9,\n",
    "                                weight_decay = 1e-5\n",
    "                            )\n",
    "loss_func = nn.NLLLoss()\n"
   ],
   "metadata": {
    "collapsed": false,
    "pycharm": {
     "name": "#%%\n"
    }
   }
  },
  {
   "cell_type": "code",
   "execution_count": null,
   "outputs": [],
   "source": [
    "train_history, best_parameters = \\\n",
    "    train(mobilenet, train_loader, loss_func, optimizer, epochs_count, accuracy, val_loader)"
   ],
   "metadata": {
    "collapsed": false,
    "pycharm": {
     "name": "#%%\n"
    }
   }
  },
  {
   "cell_type": "code",
   "execution_count": null,
   "outputs": [],
   "source": [
    "\n"
   ],
   "metadata": {
    "collapsed": false,
    "pycharm": {
     "name": "#%%\n"
    }
   }
  }
 ],
 "metadata": {
  "kernelspec": {
   "display_name": "Python 3",
   "language": "python",
   "name": "python3"
  },
  "language_info": {
   "codemirror_mode": {
    "name": "ipython",
    "version": 2
   },
   "file_extension": ".py",
   "mimetype": "text/x-python",
   "name": "python",
   "nbconvert_exporter": "python",
   "pygments_lexer": "ipython2",
   "version": "2.7.6"
  }
 },
 "nbformat": 4,
 "nbformat_minor": 0
}