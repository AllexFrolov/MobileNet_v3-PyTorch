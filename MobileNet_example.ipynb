{
 "cells": [
  {
   "cell_type": "code",
   "execution_count": null,
   "outputs": [],
   "source": [
    "from importlib import reload\n",
    "\n",
    "import numpy as np\n",
    "import torch\n",
    "import torch.nn as nn\n",
    "from torchvision import datasets, transforms\n",
    "\n",
    "# ---for debugging----------\n",
    "import MobileNet_v3\n",
    "import datafunc\n",
    "import functions\n",
    "MobileNet_v3 = reload(MobileNet_v3)\n",
    "functions = reload(functions)\n",
    "datafunc = reload(datafunc)\n",
    "# --------------------------\n",
    "from functions import train, accuracy\n",
    "from datafunc import MyDataLoader, train_test_split\n",
    "from MobileNet_v3 import MobileNetV3\n",
    "\n",
    "device = torch.device('cuda' if torch.cuda.is_available() else 'cpu')"
   ],
   "metadata": {
    "collapsed": false,
    "pycharm": {
     "name": "#%%\n"
    }
   }
  },
  {
   "cell_type": "markdown",
   "source": [
    "# Load and Prepare dataset CIFAR100"
   ],
   "metadata": {
    "collapsed": false,
    "pycharm": {
     "name": "#%% md\n"
    }
   }
  },
  {
   "cell_type": "code",
   "execution_count": null,
   "outputs": [],
   "source": [
    "# dataset settings\n",
    "batch_size = 256\n",
    "IM_SIZE = 224  # resize image\n",
    "NORMALIZE = ([0.485, 0.456, 0.406],\n",
    "             [0.229, 0.224, 0.225])\n",
    "\n",
    "\n",
    "train_transformer = transforms.Compose([\n",
    "    transforms.Resize(IM_SIZE),\n",
    "    transforms.RandomRotation(15),\n",
    "    transforms.RandomHorizontalFlip(),\n",
    "    transforms.ToTensor(),\n",
    "    transforms.Normalize(*NORMALIZE)\n",
    "])\n",
    "\n",
    "\n",
    "test_transformer = transforms.Compose([\n",
    "    transforms.Resize(IM_SIZE),\n",
    "    transforms.ToTensor(),\n",
    "    transforms.Normalize(*NORMALIZE)\n",
    "])\n",
    "\n",
    "cifar_train = datasets.CIFAR100('data/',\n",
    "                             transform=train_transformer,\n",
    "                             download=True)\n",
    "\n",
    "cifar_val = datasets.CIFAR100('data/',\n",
    "                               transform=test_transformer,\n",
    "                               train=True)\n",
    "\n",
    "train_indices, val_indices = \\\n",
    "    train_test_split(np.arange(len(cifar_train)), .75, cifar_train.targets)\n",
    "\n",
    "train_loader = MyDataLoader(cifar_train, batch_size, train_indices, shuffle=True)\n",
    "val_loader = MyDataLoader(cifar_val, batch_size, val_indices, shuffle=True)"
   ],
   "metadata": {
    "collapsed": false,
    "pycharm": {
     "name": "#%%\n"
    }
   }
  },
  {
   "cell_type": "markdown",
   "source": [
    "# Create model"
   ],
   "metadata": {
    "collapsed": false,
    "pycharm": {
     "name": "#%% md\n"
    }
   }
  },
  {
   "cell_type": "code",
   "execution_count": null,
   "outputs": [],
   "source": [
    "# model parameters\n",
    "CLASSES_COUNT = len(cifar_train.classes)\n",
    "ALPHA = 1.\n",
    "ARCHITECTURE = 'small'\n",
    "DROPOUT = 0.8\n",
    "\n",
    "mobilenet = MobileNetV3()\n",
    "mobilenet.create_model(classes_count=CLASSES_COUNT, architecture=ARCHITECTURE,\n",
    "                       alpha=ALPHA, dropout=DROPOUT)\n",
    "mobilenet = mobilenet.to(device)"
   ],
   "metadata": {
    "collapsed": false,
    "pycharm": {
     "name": "#%%\n"
    }
   }
  },
  {
   "cell_type": "code",
   "execution_count": null,
   "outputs": [],
   "source": [
    "# optimizer parameters\n",
    "LR = 1e-2\n",
    "OPTIM_MOMENTUM = 0.9\n",
    "WEIGHT_DECAY = 1e-5  # l2 weight decay\n",
    "\n",
    "optimizer = torch.optim.Adam(mobilenet.parameters(),\n",
    "                            lr=LR,\n",
    "                            weight_decay = WEIGHT_DECAY\n",
    "                            )\n",
    "\n",
    "loss_func = nn.CrossEntropyLoss()\n",
    "\n",
    "# scheduler parameters\n",
    "factor = 0.5\n",
    "patience = 2\n",
    "threshold = 0.001\n",
    "\n",
    "scheduler = torch.optim.lr_scheduler.ReduceLROnPlateau(\n",
    "    optimizer, mode='max', factor=factor, patience=patience,\n",
    "    verbose=True, threshold=threshold\n",
    ")"
   ],
   "metadata": {
    "collapsed": false,
    "pycharm": {
     "name": "#%%\n"
    }
   }
  },
  {
   "cell_type": "markdown",
   "source": [
    "# Training"
   ],
   "metadata": {
    "collapsed": false,
    "pycharm": {
     "name": "#%% md\n"
    }
   }
  },
  {
   "cell_type": "code",
   "execution_count": null,
   "outputs": [],
   "source": [
    "EPOCHS = 10\n",
    "train_history, best_parameters = \\\n",
    "    train(mobilenet, train_loader, loss_func, optimizer,\n",
    "          EPOCHS, accuracy, val_loader, scheduler)"
   ],
   "metadata": {
    "collapsed": false,
    "pycharm": {
     "name": "#%%\n"
    }
   }
  },
  {
   "cell_type": "markdown",
   "source": [
    "# Save model in file"
   ],
   "metadata": {
    "collapsed": false,
    "pycharm": {
     "name": "#%% md\n"
    }
   }
  },
  {
   "cell_type": "code",
   "execution_count": null,
   "outputs": [],
   "source": [
    "mobilenet.save_model('model.pkl')"
   ],
   "metadata": {
    "collapsed": false,
    "pycharm": {
     "name": "#%%\n"
    }
   }
  },
  {
   "cell_type": "markdown",
   "source": [
    "# Load model from file"
   ],
   "metadata": {
    "collapsed": false,
    "pycharm": {
     "name": "#%% md\n"
    }
   }
  },
  {
   "cell_type": "code",
   "execution_count": null,
   "outputs": [],
   "source": [
    "new_model = MobileNetV3()\n",
    "new_model.load_model('model.pkl')\n",
    "new_model = new_model.to(device)"
   ],
   "metadata": {
    "collapsed": false,
    "pycharm": {
     "name": "#%%\n"
    }
   }
  },
  {
   "cell_type": "code",
   "execution_count": null,
   "outputs": [],
   "source": [
    "optimizer = torch.optim.Adam(new_model.parameters(),\n",
    "                            lr=LR,\n",
    "                            weight_decay = WEIGHT_DECAY\n",
    "                            )\n",
    "\n",
    "loss_func = nn.CrossEntropyLoss()\n",
    "\n",
    "scheduler = torch.optim.lr_scheduler.ReduceLROnPlateau(\n",
    "    optimizer, mode='max', factor=factor, patience=patience,\n",
    "    verbose=True, threshold=threshold\n",
    ")"
   ],
   "metadata": {
    "collapsed": false,
    "pycharm": {
     "name": "#%%\n"
    }
   }
  },
  {
   "cell_type": "code",
   "execution_count": null,
   "outputs": [],
   "source": [
    "EPOCHS = 1\n",
    "train_history, best_parameters = \\\n",
    "    train(new_model, train_loader, loss_func, optimizer,\n",
    "          EPOCHS, accuracy, val_loader, scheduler)\n"
   ],
   "metadata": {
    "collapsed": false,
    "pycharm": {
     "name": "#%%\n"
    }
   }
  }
 ],
 "metadata": {
  "kernelspec": {
   "display_name": "Python 3",
   "language": "python",
   "name": "python3"
  },
  "language_info": {
   "codemirror_mode": {
    "name": "ipython",
    "version": 2
   },
   "file_extension": ".py",
   "mimetype": "text/x-python",
   "name": "python",
   "nbconvert_exporter": "python",
   "pygments_lexer": "ipython2",
   "version": "2.7.6"
  }
 },
 "nbformat": 4,
 "nbformat_minor": 0
}