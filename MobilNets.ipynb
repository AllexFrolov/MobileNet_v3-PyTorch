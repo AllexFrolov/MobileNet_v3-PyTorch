{
 "cells": [
  {
   "cell_type": "code",
   "execution_count": null,
   "outputs": [],
   "source": [
    "import pickle\n",
    "import numpy as np\n",
    "import torch\n",
    "from torchvision import datasets, transforms\n",
    "import torch.nn as nn\n",
    "from importlib import reload\n",
    "import MobileNet_v3\n",
    "import functions\n",
    "import datafunc\n",
    "import config\n",
    "config = reload(config)\n",
    "MobileNet_v3 = reload(MobileNet_v3)\n",
    "functions = reload(functions)\n",
    "datafunc = reload(datafunc)\n",
    "from functions import train, accuracy\n",
    "from datafunc import MyDataLoader, train_test_split\n",
    "from MobileNet_v3 import get_model as gm3\n",
    "\n",
    "device = torch.device(config.DEVICE)\n",
    "\n",
    "torch.cuda.empty_cache()"
   ],
   "metadata": {
    "collapsed": false,
    "pycharm": {
     "name": "#%%\n"
    }
   }
  },
  {
   "cell_type": "code",
   "execution_count": null,
   "outputs": [],
   "source": [
    "mobilenet = gm3(100, 'small', 1., 0.8, 3).to(device)"
   ],
   "metadata": {
    "collapsed": false,
    "pycharm": {
     "name": "#%%\n"
    }
   }
  },
  {
   "cell_type": "code",
   "execution_count": null,
   "outputs": [],
   "source": [
    "# dataset settings\n",
    "batch_size = 256\n",
    "IM_SIZE = 224  # resize image\n",
    "NORMALIZE = ([0.485, 0.456, 0.406],\n",
    "             [0.229, 0.224, 0.225])\n",
    "\n",
    "\n",
    "train_transformer = transforms.Compose([\n",
    "    transforms.Resize(IM_SIZE),\n",
    "    transforms.RandomRotation(15),\n",
    "    transforms.RandomHorizontalFlip(),\n",
    "    transforms.ToTensor(),\n",
    "    transforms.Normalize(*NORMALIZE)\n",
    "])\n",
    "\n",
    "\n",
    "test_transformer = transforms.Compose([\n",
    "    transforms.Resize(IM_SIZE),\n",
    "    transforms.ToTensor(),\n",
    "    transforms.Normalize(*NORMALIZE)\n",
    "])\n",
    "\n",
    "cifar_train = datasets.CIFAR100('data/',\n",
    "                             transform=train_transformer,\n",
    "                             download=True)\n",
    "\n",
    "with open('classes_name.pkl', 'wb') as f:\n",
    "    pickle.dump(cifar_train.classes, f)\n",
    "\n",
    "cifar_val = datasets.CIFAR100('data/',\n",
    "                               transform=test_transformer,\n",
    "                               train=True)\n",
    "\n",
    "train_indices, val_indices = \\\n",
    "    train_test_split(np.arange(len(cifar_train)), .75, cifar_train.targets)\n",
    "\n",
    "train_loader = MyDataLoader(cifar_train, batch_size, train_indices, shuffle=True)\n",
    "val_loader = MyDataLoader(cifar_val, batch_size, val_indices, shuffle=True)"
   ],
   "metadata": {
    "collapsed": false,
    "pycharm": {
     "name": "#%%\n"
    }
   }
  },
  {
   "cell_type": "code",
   "execution_count": null,
   "outputs": [],
   "source": [
    "LR = 1e-2\n",
    "OPTIM_MOMENTUM = 0.9\n",
    "WEIGHT_DECAY = 1e-5  # l2 weight decay\n",
    "\n",
    "optimizer = torch.optim.Adam(mobilenet.parameters(),\n",
    "                            lr=LR,\n",
    "                            weight_decay = WEIGHT_DECAY\n",
    "                            )\n",
    "loss_func = nn.CrossEntropyLoss()\n",
    "\n",
    "# scheduler parameters\n",
    "factor = 0.5\n",
    "patience = 4\n",
    "threshold = 0.001\n",
    "\n",
    "scheduler = torch.optim.lr_scheduler.ReduceLROnPlateau(\n",
    "    optimizer, mode='max', factor=factor, patience=patience,\n",
    "    verbose=True, threshold=threshold\n",
    ")\n"
   ],
   "metadata": {
    "collapsed": false,
    "pycharm": {
     "name": "#%%\n"
    }
   }
  },
  {
   "cell_type": "code",
   "execution_count": null,
   "outputs": [],
   "source": [
    "EPOCHS= 30\n",
    "train_history, best_parameters = \\\n",
    "    train(mobilenet, train_loader, loss_func, optimizer,\n",
    "          EPOCHS, accuracy, val_loader, scheduler)"
   ],
   "metadata": {
    "collapsed": false,
    "pycharm": {
     "name": "#%%\n"
    }
   }
  },
  {
   "cell_type": "code",
   "execution_count": null,
   "outputs": [],
   "source": [
    "torch.save({'model_state_dict': best_parameters}, 'model.torch')\n",
    "\n"
   ],
   "metadata": {
    "collapsed": false,
    "pycharm": {
     "name": "#%%\n"
    }
   }
  }
 ],
 "metadata": {
  "kernelspec": {
   "display_name": "Python 3",
   "language": "python",
   "name": "python3"
  },
  "language_info": {
   "codemirror_mode": {
    "name": "ipython",
    "version": 2
   },
   "file_extension": ".py",
   "mimetype": "text/x-python",
   "name": "python",
   "nbconvert_exporter": "python",
   "pygments_lexer": "ipython2",
   "version": "2.7.6"
  }
 },
 "nbformat": 4,
 "nbformat_minor": 0
}